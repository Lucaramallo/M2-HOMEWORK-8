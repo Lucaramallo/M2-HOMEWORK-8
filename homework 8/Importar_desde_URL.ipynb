{
 "cells": [
  {
   "cell_type": "code",
   "execution_count": 1,
   "metadata": {},
   "outputs": [],
   "source": [
    "import requests\n",
    "import pymysql\n",
    "from io import StringIO\n",
    "import csv\n",
    "\n",
    "# importo desde el enlace descargar bd.. dentro del get. \n",
    "bajada = requests.get('https://cdn.buenosaires.gob.ar/datosabiertos/datasets/ente-de-turismo/oferta-establecimientos-gastronomicos/oferta_gastronomica.csv')\n",
    "bajada.encoding = 'utf-8' # le paso el encoding para visualizarlo mejor\n",
    "bajada = bajada.text # variable que contiene el string de toda la database pasada a string a luego ser parceada por StringIO.\n",
    "\n",
    "documento = csv.reader(StringIO(bajada)) #string IO (input/output) sirve para parcear el string.\n",
    "next(documento) # saltea la primer linea.\n",
    "locales = [(linea[3], linea[4], linea[13], linea[14], linea[15][7:]) for linea in documento] # selecciono las columnas con las que voy a trabajar por cada linea en el documento guarda la variable[---].\n",
    "# locales = [(linea[3], linea[4], linea[13], linea[14], linea[15]) for linea in documento]  sin particionar comuna columna linea [15]."
   ]
  },
  {
   "cell_type": "code",
   "execution_count": 20,
   "metadata": {},
   "outputs": [],
   "source": [
    "# conexion = pymysql.connect(\n",
    "#    host='localhost',\n",
    "#    database='',\n",
    "#    user='root',\n",
    "#    password=''\n",
    "# )\n",
    "# cursor = conexion.cursor()\n",
    "# cursor.execute(\"TRUNCATE TABLE oferta_gastronomica\")\n",
    "# query = 'INSERT INTO oferta_gastronomica (nombre, categoria, direccion, barrio, comuna) VALUES(%s,%s,%s,%s,%s)'\n",
    "# cursor.executemany(query, locales)\n",
    "# conexion.commit()\n",
    "# conexion.close()"
   ]
  }
 ],
 "metadata": {
  "kernelspec": {
   "display_name": "Python 3",
   "language": "python",
   "name": "python3"
  },
  "language_info": {
   "codemirror_mode": {
    "name": "ipython",
    "version": 3
   },
   "file_extension": ".py",
   "mimetype": "text/x-python",
   "name": "python",
   "nbconvert_exporter": "python",
   "pygments_lexer": "ipython3",
   "version": "3.10.10"
  },
  "orig_nbformat": 4,
  "vscode": {
   "interpreter": {
    "hash": "957a0973b20c9ca410cb31745b8585db68510eafaadcea06bf68cd1027372551"
   }
  }
 },
 "nbformat": 4,
 "nbformat_minor": 2
}
